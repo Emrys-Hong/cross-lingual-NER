{
 "cells": [
  {
   "cell_type": "code",
   "execution_count": 1,
   "metadata": {},
   "outputs": [],
   "source": [
    "import os\n",
    "os.environ['CUDA_VISIBLE_DEVICES']='0'"
   ]
  },
  {
   "cell_type": "code",
   "execution_count": 2,
   "metadata": {},
   "outputs": [
    {
     "name": "stderr",
     "output_type": "stream",
     "text": [
      "/root/anaconda3/envs/pytorch4/lib/python3.6/importlib/_bootstrap.py:219: RuntimeWarning: numpy.dtype size changed, may indicate binary incompatibility. Expected 96, got 88\n",
      "  return f(*args, **kwds)\n",
      "/root/anaconda3/envs/pytorch4/lib/python3.6/importlib/_bootstrap.py:219: RuntimeWarning: numpy.dtype size changed, may indicate binary incompatibility. Expected 96, got 88\n",
      "  return f(*args, **kwds)\n",
      "/root/anaconda3/envs/pytorch4/lib/python3.6/site-packages/sklearn/ensemble/weight_boosting.py:29: DeprecationWarning: numpy.core.umath_tests is an internal NumPy module and should not be imported. It will be removed in a future NumPy release.\n",
      "  from numpy.core.umath_tests import inner1d\n",
      "/root/anaconda3/envs/pytorch4/lib/python3.6/importlib/_bootstrap.py:219: RuntimeWarning: numpy.dtype size changed, may indicate binary incompatibility. Expected 96, got 88\n",
      "  return f(*args, **kwds)\n",
      "/root/anaconda3/envs/pytorch4/lib/python3.6/importlib/_bootstrap.py:219: RuntimeWarning: numpy.ufunc size changed, may indicate binary incompatibility. Expected 192, got 176\n",
      "  return f(*args, **kwds)\n"
     ]
    }
   ],
   "source": [
    "from fastai.text import *\n",
    "from sebastian.eval import eval_ner"
   ]
  },
  {
   "cell_type": "code",
   "execution_count": 3,
   "metadata": {},
   "outputs": [],
   "source": [
    "from model.data_utils import minibatches, pad_sequences, get_chunks\n",
    "from model.config import Config\n",
    "from model.data_utils import CoNLLDataset\n",
    "from torch.utils.data.sampler import SequentialSampler, RandomSampler, BatchSampler"
   ]
  },
  {
   "cell_type": "code",
   "execution_count": 4,
   "metadata": {},
   "outputs": [],
   "source": [
    "config = Config()"
   ]
  },
  {
   "cell_type": "code",
   "execution_count": 5,
   "metadata": {},
   "outputs": [],
   "source": [
    "train = CoNLLDataset(config.filename_train, config.processing_word,\n",
    "                         config.processing_tag, config.max_iter)\n",
    "val = CoNLLDataset(config.filename_dev, config.processing_word,\n",
    "                         config.processing_tag, config.max_iter)\n",
    "test = CoNLLDataset(config.filename_test, config.processing_word,\n",
    "                         config.processing_tag, config.max_iter)"
   ]
  },
  {
   "cell_type": "code",
   "execution_count": 6,
   "metadata": {},
   "outputs": [],
   "source": [
    "class Minibatch(object):\n",
    "    def __init__(self, data, minibatch_size):\n",
    "        self.data = data\n",
    "        self.minibatch_size = minibatch_size\n",
    "        self.length = None\n",
    "        \n",
    "    def __iter__(self):\n",
    "        x_batch, y_batch = [], []\n",
    "        for (x, y) in self.data:\n",
    "            if len(x_batch) == self.minibatch_size:\n",
    "                char_ids, word_ids = zip(*x_batch)\n",
    "                word_ids, sequence_lengths = pad_sequences(word_ids, 0)\n",
    "                char_ids, word_lengths = pad_sequences(char_ids, pad_tok=0,\n",
    "                    nlevels=2)\n",
    "                lbl_ids, lbl_lengths = pad_sequences(y_batch, 0)\n",
    "                word_ids = np.concatenate([np.array(word_ids)[:,:,np.newaxis], np.array(char_ids)], axis=-1)\n",
    "                yield T(word_ids), T(lbl_ids).view(-1)\n",
    "                x_batch, y_batch = [], []\n",
    "\n",
    "            if type(x[0]) == tuple:\n",
    "                x = zip(*x)\n",
    "            x_batch += [x]\n",
    "            y_batch += [y]\n",
    "\n",
    "        if len(x_batch) != 0:\n",
    "            char_ids, word_ids = zip(*x_batch)\n",
    "            word_ids, sequence_lengths = pad_sequences(word_ids, 0)\n",
    "            char_ids, word_lengths = pad_sequences(char_ids, pad_tok=0,\n",
    "                nlevels=2)\n",
    "            lbl_ids, lbl_lengths = pad_sequences(y_batch, 0)\n",
    "            word_ids = np.concatenate([np.array(word_ids)[:,:,np.newaxis], np.array(char_ids)], axis=-1)\n",
    "            yield T(word_ids), T(lbl_ids).view(-1)\n",
    "    \n",
    "    def __len__(self):\n",
    "        if self.length == None:\n",
    "            self.length = 0\n",
    "            for _ in self:\n",
    "                self.length += 1\n",
    "        return self.length"
   ]
  },
  {
   "cell_type": "code",
   "execution_count": 7,
   "metadata": {},
   "outputs": [],
   "source": [
    "dir_path = '/home/'\n",
    "trn_dl = Minibatch(train, 20)\n",
    "val_dl = Minibatch(val, 20)\n",
    "test_dl = Minibatch(test, 20)\n",
    "md = ModelData(dir_path, trn_dl, val_dl, test_dl)"
   ]
  },
  {
   "cell_type": "code",
   "execution_count": 17,
   "metadata": {},
   "outputs": [],
   "source": [
    "class NER_model(nn.Module):\n",
    "    def __init__(self, config):\n",
    "        super(NER_model, self).__init__()\n",
    "        self.config = config\n",
    "        self.idx_to_tag = {idx: tag for tag, idx in\n",
    "                           self.config.vocab_tags.items()}\n",
    "        self.get_word_embeddings()\n",
    "        self.get_logits()\n",
    "        \n",
    "    def get_word_embeddings(self):\n",
    "        # get word embeding\n",
    "        _word_embedding = V(self.config.embeddings, requires_grad=True)\n",
    "        self.word_embedding = nn.Embedding.from_pretrained(_word_embedding)\n",
    "        \n",
    "        # get char embedding\n",
    "        self._char_embedding = nn.Embedding(self.config.nchars, self.config.dim_char)\n",
    "        self.char_embedding = nn.LSTM(input_size=self.config.dim_char, hidden_size=self.config.hidden_size_char,\n",
    "                                     num_layers=1, batch_first=True, # not sure here whether batch is first\n",
    "                                     bidirectional=True)\n",
    "        \n",
    "    def get_logits(self):\n",
    "        self.rnn = nn.LSTM(input_size=self.config.dim_word+self.config.dim_char*2,\n",
    "                          hidden_size=self.config.hidden_size_lstm,\n",
    "                          num_layers=1, batch_first=True, # not sure whether batch is first\n",
    "                          bidirectional=True)\n",
    "        self.dropout = nn.Dropout(self.config.dropout if self.train else 0)\n",
    "        self.linear = nn.Linear(self.config.hidden_size_lstm*2, self.config.ntags)\n",
    "        \n",
    "    def forward(self, input):\n",
    "        char = input[:, :, 1:]\n",
    "        words = input[:, :, 0]\n",
    "        bs, sl, _ = char.size()\n",
    "        char = char.view(-1, _)\n",
    "        _char_embedding = self._char_embedding(char)\n",
    "        \n",
    "        char_embedding, (h_n, cell_n) = self.char_embedding(_char_embedding)\n",
    "        char_embedding = h_n.view(bs, sl, -1)\n",
    "        word_embedding = self.word_embedding(words)\n",
    "\n",
    "        # concat word embeddings and char embeddings\n",
    "        word_embedding = torch.cat([word_embedding, char_embedding], dim=-1)\n",
    "        word_embedding_dp = self.dropout(word_embedding)\n",
    "        \n",
    "        out, (n_h, n_cell) = self.rnn(word_embedding_dp)\n",
    "        out_dp = self.dropout(out)\n",
    "        out = self.linear(out_dp)\n",
    "        return out.view(out.size(0)*out.size(1), out.size(-1))"
   ]
  },
  {
   "cell_type": "code",
   "execution_count": 18,
   "metadata": {},
   "outputs": [],
   "source": [
    "ner_model = NER_model(config).cuda()"
   ]
  },
  {
   "cell_type": "code",
   "execution_count": 19,
   "metadata": {},
   "outputs": [],
   "source": [
    "opt = optim.Adam(ner_model.parameters(), 1e-3)\n",
    "loss_func = F.cross_entropy"
   ]
  },
  {
   "cell_type": "code",
   "execution_count": 20,
   "metadata": {},
   "outputs": [],
   "source": [
    "##### rewrite RNN Learner #####\n",
    "'''rewrite load_encoder to load the encoding modules'''\n",
    "class RNN_Learner_bidir(Learner):\n",
    "    def __init__(self, data, models, **kwargs):\n",
    "        super().__init__(data, models, **kwargs)\n",
    "\n",
    "    def _get_crit(self, data): return F.cross_entropy\n",
    "    def fit(self, *args, **kwargs): return super().fit(*args, **kwargs, seq_first=True)\n",
    "\n",
    "    def save_encoder(self, name): save_model(self.model[0], self.get_model_path(name))\n",
    "    def load_encoder(self, name_fw, name_bw): \n",
    "        load_model(self.model.rnn_enc_fw, self.get_model_path(name_fw))\n",
    "        load_model(self.model.rnn_enc_bw, self.get_model_path(name_bw))\n",
    "##### end #####\n",
    "\n",
    "\n",
    "##### rewrite textmodel #####\n",
    "'''get layer groups'''\n",
    "class TextModel_bidir(BasicModel):\n",
    "    def get_layer_groups(self):\n",
    "        return [(self.model._char_embedding),(self.model.char_embedding), \n",
    "                (self.model.word_embedding),(self.model.rnn),(self.model.linear)]\n",
    "\n",
    "opt_fn = partial(optim.Adam, betas=(0.8, 0.99))\n",
    "learn = RNN_Learner_bidir(md, TextModel_bidir(to_gpu(ner_model)), opt_fn=opt_fn)"
   ]
  },
  {
   "cell_type": "code",
   "execution_count": 21,
   "metadata": {},
   "outputs": [
    {
     "data": {
      "application/vnd.jupyter.widget-view+json": {
       "model_id": "c0129963933a4860ae63f8ae7f274b1b",
       "version_major": 2,
       "version_minor": 0
      },
      "text/plain": [
       "HBox(children=(IntProgress(value=0, description='Epoch', max=2), HTML(value='')))"
      ]
     },
     "metadata": {},
     "output_type": "display_data"
    },
    {
     "name": "stdout",
     "output_type": "stream",
     "text": [
      "epoch      trn_loss   val_loss   accuracy                    \n",
      "    0      0.116252   0.081484   0.976021  \n",
      "    1      0.081436   0.055951   0.983435                     \n",
      "\n"
     ]
    },
    {
     "data": {
      "text/plain": [
       "[0.05595079365943407, 0.9834345496497173]"
      ]
     },
     "execution_count": 21,
     "metadata": {},
     "output_type": "execute_result"
    }
   ],
   "source": [
    "learn.fit(0.001, 2, metrics=[accuracy])"
   ]
  },
  {
   "cell_type": "code",
   "execution_count": 30,
   "metadata": {},
   "outputs": [
    {
     "name": "stdout",
     "output_type": "stream",
     "text": [
      "Test f1 measure overall: 0.8294657964708226\n",
      "{'precision-MISC': 0.6813186813186812, 'recall-MISC': 0.6182336182336181, 'f1-measure-MISC': 0.6482449589245207, 'precision-LOC': 0.9042647712127944, 'recall-LOC': 0.9320054945054945, 'f1-measure-LOC': 0.9179255918827008, 'precision-PER': 0.8096371207614516, 'recall-PER': 0.8437693738375698, 'f1-measure-PER': 0.8263509411049896, 'precision-ORG': 0.7203757225433526, 'recall-ORG': 0.6002408187838651, 'f1-measure-ORG': 0.6548440065680949, 'precision-overall': 0.8365431496830814, 'recall-overall': 0.8225071907957814, 'f1-measure-overall': 0.8294657964708226}\n",
      "Test token-level accuracy of NER model: 0.9787.\n"
     ]
    }
   ],
   "source": [
    "eval_ner(learn, id2tag, is_test=True)"
   ]
  },
  {
   "cell_type": "code",
   "execution_count": 27,
   "metadata": {},
   "outputs": [],
   "source": [
    "id2tag = [o for i,o in ner_model.idx_to_tag.items()]"
   ]
  },
  {
   "cell_type": "code",
   "execution_count": 26,
   "metadata": {},
   "outputs": [
    {
     "data": {
      "text/plain": [
       "{'0': 'I-LOC',\n",
       " '1': 'B-MISC',\n",
       " '2': 'B-LOC',\n",
       " '3': 'I-PER',\n",
       " '4': 'O',\n",
       " '5': 'I-ORG',\n",
       " '6': 'I-MISC',\n",
       " '7': 'B-ORG'}"
      ]
     },
     "execution_count": 26,
     "metadata": {},
     "output_type": "execute_result"
    }
   ],
   "source": [
    "id2tag"
   ]
  },
  {
   "cell_type": "code",
   "execution_count": 28,
   "metadata": {},
   "outputs": [
    {
     "data": {
      "text/plain": [
       "['I-LOC', 'B-MISC', 'B-LOC', 'I-PER', 'O', 'I-ORG', 'I-MISC', 'B-ORG']"
      ]
     },
     "execution_count": 28,
     "metadata": {},
     "output_type": "execute_result"
    }
   ],
   "source": [
    "id2tag"
   ]
  },
  {
   "cell_type": "code",
   "execution_count": null,
   "metadata": {},
   "outputs": [],
   "source": []
  }
 ],
 "metadata": {
  "kernelspec": {
   "display_name": "Python 3",
   "language": "python",
   "name": "python3"
  },
  "language_info": {
   "codemirror_mode": {
    "name": "ipython",
    "version": 3
   },
   "file_extension": ".py",
   "mimetype": "text/x-python",
   "name": "python",
   "nbconvert_exporter": "python",
   "pygments_lexer": "ipython3",
   "version": "3.6.6"
  }
 },
 "nbformat": 4,
 "nbformat_minor": 2
}
