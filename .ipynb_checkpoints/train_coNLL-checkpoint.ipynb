{
 "cells": [
  {
   "cell_type": "code",
   "execution_count": 63,
   "metadata": {},
   "outputs": [],
   "source": [
    "import os\n",
    "os.environ['CUDA_VISIBLE_DEVICES']='0'"
   ]
  },
  {
   "cell_type": "code",
   "execution_count": 64,
   "metadata": {},
   "outputs": [],
   "source": [
    "from fastai.text import *\n",
    "from sebastian.eval import eval_ner\n",
    "from model.data_utils import minibatches, pad_sequences, get_chunks\n",
    "from model.config import Config\n",
    "from model.data_utils import CoNLLDataset\n",
    "from torch.utils.data.sampler import SequentialSampler, RandomSampler, BatchSampler\n",
    "import torch.nn.utils.rnn as rnn_utils\n",
    "from UTILS.lstm_v import LSTM_v1"
   ]
  },
  {
   "cell_type": "code",
   "execution_count": 65,
   "metadata": {},
   "outputs": [],
   "source": [
    "config = Config()"
   ]
  },
  {
   "cell_type": "code",
   "execution_count": 66,
   "metadata": {},
   "outputs": [],
   "source": [
    "train = CoNLLDataset(config.filename_train, config.processing_word,\n",
    "                         config.processing_tag, config.max_iter)\n",
    "val = CoNLLDataset(config.filename_dev, config.processing_word,\n",
    "                         config.processing_tag, config.max_iter)\n",
    "test = CoNLLDataset(config.filename_test, config.processing_word,\n",
    "                         config.processing_tag, config.max_iter)"
   ]
  },
  {
   "cell_type": "code",
   "execution_count": 67,
   "metadata": {},
   "outputs": [],
   "source": [
    "class Minibatch(object):\n",
    "    def __init__(self, data, minibatch_size):\n",
    "        self.data = data\n",
    "        self.minibatch_size = minibatch_size\n",
    "        self.length = None\n",
    "        \n",
    "    def __iter__(self):\n",
    "        x_batch, y_batch = [], []\n",
    "        for (x, y) in self.data:\n",
    "            if len(x_batch) == self.minibatch_size:\n",
    "                char_ids, word_ids = zip(*x_batch)\n",
    "                word_ids, sequence_lengths = pad_sequences(word_ids, 0)\n",
    "                char_ids, word_lengths = pad_sequences(char_ids, pad_tok=0,\n",
    "                    nlevels=2)\n",
    "                lbl_ids, lbl_lengths = pad_sequences(y_batch, 0)\n",
    "                bs, sl, char = np.array(char_ids).shape\n",
    "                # expand the seq_lens and pad with ones, and concat with the rest\n",
    "                # seq_len (bs)\n",
    "                seq_lens_padded = np.concatenate([np.array(sequence_lengths)[:,np.newaxis], np.ones((bs, sl-1))], axis=-1)\n",
    "                # seq_len, word_ids, word_length, char_ids\n",
    "                word_ids = np.concatenate([seq_lens_padded[:,:,None], \n",
    "                                           np.array(word_ids)[:,:,None], \n",
    "                                           np.array(word_lengths)[:,:,None], \n",
    "                                           np.array(char_ids)], axis=-1)\n",
    "                \n",
    "                yield T(word_ids), T(lbl_ids).view(-1)\n",
    "                x_batch, y_batch = [], []\n",
    "\n",
    "            if type(x[0]) == tuple:\n",
    "                x = zip(*x)\n",
    "            x_batch += [x]\n",
    "            y_batch += [y]\n",
    "\n",
    "#         if len(x_batch) != 0:\n",
    "#             char_ids, word_ids = zip(*x_batch)\n",
    "#             word_ids, sequence_lengths = pad_sequences(word_ids, 0)\n",
    "#             char_ids, word_lengths = pad_sequences(char_ids, pad_tok=0,\n",
    "#                 nlevels=2)\n",
    "#             lbl_ids, lbl_lengths = pad_sequences(y_batch, 0)\n",
    "#             word_ids = np.concatenate([np.array(word_ids)[:,:,np.newaxis], np.array(char_ids)], axis=-1)\n",
    "#             yield T(word_ids), T(lbl_ids).view(-1)\n",
    "    \n",
    "    def __len__(self):\n",
    "        if self.length == None:\n",
    "            self.length = 0\n",
    "            for _ in self:\n",
    "                self.length += 1\n",
    "        return self.length"
   ]
  },
  {
   "cell_type": "code",
   "execution_count": 68,
   "metadata": {},
   "outputs": [],
   "source": [
    "dir_path = '/home/emrys/Desktop/seq_tagging_cross_lingual/'\n",
    "trn_dl = Minibatch(train, 20)\n",
    "val_dl = Minibatch(val, 20)\n",
    "test_dl = Minibatch(test, 20)\n",
    "md = ModelData(dir_path, trn_dl, val_dl, test_dl)"
   ]
  },
  {
   "cell_type": "code",
   "execution_count": 81,
   "metadata": {},
   "outputs": [],
   "source": [
    "class NER_model(nn.Module):\n",
    "    def __init__(self, config):\n",
    "        super(NER_model, self).__init__()\n",
    "        self.config = config\n",
    "        self.idx_to_tag = {idx: tag for tag, idx in\n",
    "                           self.config.vocab_tags.items()}\n",
    "        self.get_word_embeddings()\n",
    "        self.get_logits()\n",
    "        \n",
    "    def get_word_embeddings(self):\n",
    "        # get word embeding\n",
    "        _word_embedding = V(self.config.embeddings, requires_grad=True)\n",
    "        self.word_embedding = nn.Embedding.from_pretrained(_word_embedding)\n",
    "        \n",
    "        # get char embedding\n",
    "        self._char_embedding = nn.Embedding(self.config.nchars, self.config.dim_char)\n",
    "        self.char_embedding = nn.LSTM(input_size=self.config.dim_char, hidden_size=self.config.hidden_size_char,\n",
    "                                     num_layers=1, batch_first=True, # not sure here whether batch is first\n",
    "                                     bidirectional=True)\n",
    "        # get char embed for tar lang\n",
    "        self._char_embedding_tar = nn.Embedding(self.config.nchars, self.config.dim_char)\n",
    "        self.char_embedding_tar = nn.LSTM(input_size=self.config.dim_char, hidden_size=self.config.hidden_size_char,\n",
    "                                     num_layers=1, batch_first=True, # not sure here whether batch is first\n",
    "                                     bidirectional=True)\n",
    "        \n",
    "    def get_logits(self):\n",
    "        self.rnn = nn.LSTM(input_size=self.config.dim_word+self.config.dim_char*2,\n",
    "                          hidden_size=self.config.hidden_size_lstm,\n",
    "                          num_layers=1, batch_first=True, # not sure whether batch is first\n",
    "                          bidirectional=True)\n",
    "        self.dropout_e = nn.Dropout(self.config.dropout if self.train else 0) # e for embedding\n",
    "        self.dropout = nn.Dropout(self.config.dropout if self.train else 0)\n",
    "        self.linear = nn.Linear(self.config.hidden_size_lstm*2, self.config.ntags)\n",
    "        \n",
    "        # add logits for tar lang\n",
    "        self.rnn_tar = nn.LSTM(input_size=self.config.dim_word+self.config.dim_char*2,\n",
    "                          hidden_size=self.config.hidden_size_lstm,\n",
    "                          num_layers=1, batch_first=True, # not sure whether batch is first\n",
    "                          bidirectional=True)\n",
    "        self.dropout_e_tar = nn.Dropout(self.config.dropout if self.train else 0) # e for embedding\n",
    "        self.linear_tar = nn.Linear(self.config.hidden_size_lstm*4, self.config.ntags)\n",
    "        \n",
    "    def forward(self, input):\n",
    "        seq_lens = input[:,0,0]\n",
    "        words = input[:, :, 1]\n",
    "        word_lens = input[:,:,2]\n",
    "        char = input[:, :, 3:]\n",
    "        \n",
    "        bs, sl, _ = char.size()\n",
    "        char = char.view(-1, _)\n",
    "        word_lens = word_lens.view(-1)\n",
    "        word_lens[word_lens==0] = 1\n",
    "        word_lens = word_lens.type(torch.int)\n",
    "        \n",
    "        # for source lang\n",
    "        _char_embedding = self._char_embedding(char.long())\n",
    "        char_embedding, (h_n, cell_n) = self.char_embedding(_char_embedding) # try use output instead of hidden size\n",
    "        char_embedding = h_n.contiguous().view(bs, sl, -1)\n",
    "\n",
    "        # for tar lang\n",
    "        _char_embedding_tar = self._char_embedding_tar(char.long()) \n",
    "        char_embedding_tar, (h_n_tar, cell_n_tar) = self.char_embedding_tar(_char_embedding_tar) # try use output instead of hidden size\n",
    "        char_embedding_tar = h_n_tar.contiguous().view(bs, sl, -1)\n",
    "\n",
    "        # word embedding\n",
    "        word_embedding = self.word_embedding(words.long())\n",
    "        seq_lens = seq_lens.type(torch.int)\n",
    "        \n",
    "        # concat word embeddings and char embeddings of source\n",
    "        # and to rnn\n",
    "        word_embedding_sour = torch.cat([word_embedding, char_embedding], dim=-1)\n",
    "        word_embedding_dp = self.dropout_e(word_embedding_sour)\n",
    "        seq_lens = seq_lens.type(torch.int)\n",
    "        out, (n_h, n_cell) = self.rnn(word_embedding_dp)\n",
    "        \n",
    "        # concat word embeddings and char embeddings of tar\n",
    "        # and to rnn\n",
    "        word_embedding_tar = torch.cat([word_embedding, char_embedding_tar], dim=-1)\n",
    "        word_embedding_dp_tar = self.dropout_e_tar(word_embedding_tar)\n",
    "        out_tar, (n_h_tar, n_cell_tar) = self.rnn_tar(word_embedding_dp_tar)\n",
    "        \n",
    "        # concat two outputs\n",
    "        out = torch.cat([out, out_tar], dim=-1)\n",
    "        \n",
    "        out_dp = self.dropout(out)\n",
    "        out = self.linear_tar(out_dp)\n",
    "        return out.view(out.size(0)*out.size(1), out.size(-1))"
   ]
  },
  {
   "cell_type": "code",
   "execution_count": 82,
   "metadata": {},
   "outputs": [
    {
     "data": {
      "text/plain": [
       "500"
      ]
     },
     "execution_count": 82,
     "metadata": {},
     "output_type": "execute_result"
    }
   ],
   "source": [
    "config.dim_word+config.dim_char*2"
   ]
  },
  {
   "cell_type": "code",
   "execution_count": 83,
   "metadata": {},
   "outputs": [],
   "source": [
    "ner_model = NER_model(config)"
   ]
  },
  {
   "cell_type": "code",
   "execution_count": 84,
   "metadata": {},
   "outputs": [],
   "source": [
    "##### rewrite RNN Learner #####\n",
    "'''rewrite load_encoder to load the encoding modules'''\n",
    "class RNN_Learner_bidir(Learner):\n",
    "    def __init__(self, data, models, **kwargs):\n",
    "        super().__init__(data, models, **kwargs)\n",
    "\n",
    "    def _get_crit(self, data): return F.cross_entropy\n",
    "    def fit(self, *args, **kwargs): return super().fit(*args, **kwargs, seq_first=True)\n",
    "\n",
    "    def save_encoder(self, name_rnn, name_linear, name_char_embedding, name_char_embedding_lstm): \n",
    "        torch.save(self.model.rnn.LSTM.state_dict(), name_rnn)\n",
    "        torch.save(self.model.linear.state_dict(), name_linear)\n",
    "        torch.save(self.model._char_embedding.state_dict(), name_char_embedding)\n",
    "        torch.save(self.model.char_embedding.LSTM.state_dict(), name_char_embedding_lstm)\n",
    "        \n",
    "    def load_encoder(self, name_rnn, name_linear, name_char_embedding, name_char_embedding_lstm): \n",
    "        self.model.rnn.LSTM.load_state_dict(torch.load(name_rnn))\n",
    "        self.model.linear.load_state_dict(torch.load(name_linear))\n",
    "        self.model._char_embedding.load_state_dict(torch.load(name_char_embedding))\n",
    "        self.model.char_embedding.LSTM.load_state_dict(torch.load(name_char_embedding_lstm))\n",
    "        \n",
    "##### end #####\n",
    "\n",
    "\n",
    "##### rewrite textmodel #####\n",
    "'''get layer groups'''\n",
    "class TextModel_bidir(BasicModel):\n",
    "    def get_layer_groups(self):\n",
    "        return [(self.model._char_embedding, self.model.char_embedding, self.model.rnn, self.model.linear),# source lang \n",
    "                (self.model._char_embedding_tar),(self.model.char_embedding_tar), \n",
    "                (self.model.word_embedding),(self.model.rnn_tar),(self.model.linear_tar)]\n",
    "\n",
    "def freeze_all_but(learner, n):\n",
    "    c=learner.get_layer_groups()\n",
    "    for l in c: set_trainable(l, False)\n",
    "    set_trainable(c[n], True)\n",
    "    \n",
    "def freeze_one(learner, n):\n",
    "    c=learner.get_layer_groups()\n",
    "    set_trainable(c[n], False)\n",
    "    \n",
    "opt_fn = partial(optim.Adam, betas=(0.8, 0.99))\n",
    "learn = RNN_Learner_bidir(md, TextModel_bidir(to_gpu(ner_model)), opt_fn=opt_fn)\n",
    "# learn.load_encoder('results/eng_rnn_params.pkl', 'results/eng_linear_params.pkl', 'results/eng_char_embedding_params.pkl', 'results/eng_char_embedding_lstm_params.pkl')"
   ]
  },
  {
   "cell_type": "code",
   "execution_count": 85,
   "metadata": {},
   "outputs": [],
   "source": [
    "# freeze_all_but(learn, -1)\n",
    "# learn.unfreeze()\n",
    "freeze_one(learn, 0)"
   ]
  },
  {
   "cell_type": "code",
   "execution_count": 86,
   "metadata": {
    "scrolled": false
   },
   "outputs": [
    {
     "data": {
      "application/vnd.jupyter.widget-view+json": {
       "model_id": "a3657dfbcf3a42569cc8b67d50e9d629",
       "version_major": 2,
       "version_minor": 0
      },
      "text/plain": [
       "HBox(children=(IntProgress(value=0, description='Epoch', max=7), HTML(value='')))"
      ]
     },
     "metadata": {},
     "output_type": "display_data"
    },
    {
     "name": "stdout",
     "output_type": "stream",
     "text": [
      "epoch      trn_loss   val_loss   accuracy                     \n",
      "    0      0.172332   0.161319   0.948725  \n",
      "    1      0.107887   0.08787    0.974805                     \n",
      "    2      0.095603   0.080985   0.975442                     \n",
      "    3      0.089331   0.072113   0.977711                     \n",
      "    4      0.080795   0.06644    0.979045                     \n",
      "    5      0.075903   0.064892   0.979427                     \n",
      "    6      0.072851   0.062446   0.98054                      \n",
      "\n"
     ]
    },
    {
     "data": {
      "text/plain": [
       "[0.062445851747768996, 0.9805404492011287]"
      ]
     },
     "execution_count": 86,
     "metadata": {},
     "output_type": "execute_result"
    }
   ],
   "source": [
    "learn.fit(0.001, 3, metrics=[accuracy], cycle_len=1, cycle_mult=2)"
   ]
  },
  {
   "cell_type": "code",
   "execution_count": 23,
   "metadata": {},
   "outputs": [],
   "source": [
    "torch.save(learn.model.char_embedding.LSTM.state_dict(), 'results/eng_char_embedding_lstm_params.pkl')"
   ]
  },
  {
   "cell_type": "code",
   "execution_count": 21,
   "metadata": {},
   "outputs": [
    {
     "data": {
      "text/plain": [
       "NER_model(\n",
       "  (word_embedding): Embedding(17425, 300)\n",
       "  (_char_embedding): Embedding(84, 100)\n",
       "  (dropout): Dropout(p=0.5)\n",
       "  (linear): Linear(in_features=600, out_features=8, bias=True)\n",
       ")"
      ]
     },
     "execution_count": 21,
     "metadata": {},
     "output_type": "execute_result"
    }
   ],
   "source": [
    "learn"
   ]
  },
  {
   "cell_type": "code",
   "execution_count": 15,
   "metadata": {},
   "outputs": [],
   "source": [
    "learn.save_encoder('results/eng_rnn_params.pkl', 'results/eng_linear_params.pkl')"
   ]
  },
  {
   "cell_type": "code",
   "execution_count": 16,
   "metadata": {},
   "outputs": [],
   "source": [
    "id2tag = [o for i,o in ner_model.idx_to_tag.items()]"
   ]
  },
  {
   "cell_type": "code",
   "execution_count": 17,
   "metadata": {},
   "outputs": [
    {
     "name": "stdout",
     "output_type": "stream",
     "text": [
      "Test f1 measure overall: 0.8515127629903094\n",
      "{'precision-PER': 0.884896872920825, 'recall-PER': 0.8291770573566085, 'f1-measure-PER': 0.8561313163823125, 'precision-LOC': 0.9170996159927717, 'recall-LOC': 0.9339774557165862, 'f1-measure-LOC': 0.9254615910644589, 'precision-MISC': 0.7221350078492934, 'recall-MISC': 0.6628242074927952, 'f1-measure-MISC': 0.6912096168294015, 'precision-ORG': 0.7221195317313617, 'recall-ORG': 0.706875753920386, 'f1-measure-ORG': 0.7144163364827297, 'precision-overall': 0.8573870573870573, 'recall-overall': 0.8457184150307118, 'f1-measure-overall': 0.8515127629903094}\n",
      "Test token-level accuracy of NER model: 0.9817.\n"
     ]
    }
   ],
   "source": [
    "eval_ner(learn, id2tag, is_test=True)"
   ]
  },
  {
   "cell_type": "code",
   "execution_count": 27,
   "metadata": {},
   "outputs": [],
   "source": [
    "# padding\n",
    "import torch.nn.utils.rnn as rnn_utils  "
   ]
  },
  {
   "cell_type": "code",
   "execution_count": 43,
   "metadata": {},
   "outputs": [],
   "source": [
    "lstm = nn.LSTM(10, 20, bidirectional=True, num_layers=1, batch_first=True)\n",
    "packed = rnn_utils.pack_padded_sequence(torch.randn(4, 50, 10), T([40, 30, 20, 10]), batch_first=True)\n",
    "packed_out, packed_hidden = lstm(packed)\n",
    "unpacked, unpacked_len = rnn_utils.pad_packed_sequence(packed_out)"
   ]
  },
  {
   "cell_type": "code",
   "execution_count": 45,
   "metadata": {},
   "outputs": [
    {
     "data": {
      "text/plain": [
       "(tensor([[[-0.0338,  0.0061,  0.0005,  ..., -0.0912,  0.0050,  0.1206],\n",
       "          [ 0.1199, -0.0857, -0.0399,  ..., -0.0580,  0.1510,  0.1029],\n",
       "          [-0.0035, -0.0643,  0.0095,  ..., -0.1064,  0.1615, -0.1207],\n",
       "          [ 0.2136, -0.0328, -0.1314,  ...,  0.0868,  0.0889, -0.0900]],\n",
       " \n",
       "         [[-0.0673, -0.0633, -0.0172,  ..., -0.1604,  0.0258, -0.0048],\n",
       "          [ 0.0453, -0.2590, -0.1192,  ..., -0.0744,  0.1925, -0.0982],\n",
       "          [-0.0232, -0.1782, -0.0328,  ..., -0.1592, -0.0142, -0.0713],\n",
       "          [ 0.1261,  0.0267, -0.0232,  ...,  0.1205,  0.0623, -0.0599]],\n",
       " \n",
       "         [[-0.1563,  0.1211, -0.0770,  ..., -0.2175,  0.1228, -0.0800],\n",
       "          [-0.0175, -0.2058, -0.0591,  ..., -0.0799,  0.2336, -0.0746],\n",
       "          [ 0.1256, -0.3455, -0.2181,  ..., -0.1456, -0.0381, -0.0669],\n",
       "          [-0.0260, -0.0122,  0.0984,  ...,  0.0678,  0.1064, -0.0934]],\n",
       " \n",
       "         ...,\n",
       " \n",
       "         [[-0.1328, -0.0234,  0.0616,  ...,  0.0885,  0.0288, -0.0564],\n",
       "          [ 0.0000,  0.0000,  0.0000,  ...,  0.0000,  0.0000,  0.0000],\n",
       "          [ 0.0000,  0.0000,  0.0000,  ...,  0.0000,  0.0000,  0.0000],\n",
       "          [ 0.0000,  0.0000,  0.0000,  ...,  0.0000,  0.0000,  0.0000]],\n",
       " \n",
       "         [[-0.1971,  0.0140,  0.1158,  ..., -0.1061,  0.1983,  0.0058],\n",
       "          [ 0.0000,  0.0000,  0.0000,  ...,  0.0000,  0.0000,  0.0000],\n",
       "          [ 0.0000,  0.0000,  0.0000,  ...,  0.0000,  0.0000,  0.0000],\n",
       "          [ 0.0000,  0.0000,  0.0000,  ...,  0.0000,  0.0000,  0.0000]],\n",
       " \n",
       "         [[-0.0551,  0.0172, -0.0107,  ..., -0.0373, -0.0386,  0.1137],\n",
       "          [ 0.0000,  0.0000,  0.0000,  ...,  0.0000,  0.0000,  0.0000],\n",
       "          [ 0.0000,  0.0000,  0.0000,  ...,  0.0000,  0.0000,  0.0000],\n",
       "          [ 0.0000,  0.0000,  0.0000,  ...,  0.0000,  0.0000,  0.0000]]],\n",
       "        grad_fn=<CopySlices>), tensor([40, 30, 20, 10]))"
      ]
     },
     "execution_count": 45,
     "metadata": {},
     "output_type": "execute_result"
    }
   ],
   "source": [
    "unpacked, unpacked_len"
   ]
  },
  {
   "cell_type": "code",
   "execution_count": 57,
   "metadata": {},
   "outputs": [],
   "source": [
    "v_rnn = LSTM_v1(10, 20)"
   ]
  },
  {
   "cell_type": "code",
   "execution_count": 59,
   "metadata": {},
   "outputs": [],
   "source": [
    "out, h = v_rnn.run(torch.ones(4, 50, 10).cuda(), T([10,20,25,25]))"
   ]
  },
  {
   "cell_type": "code",
   "execution_count": null,
   "metadata": {},
   "outputs": [],
   "source": []
  },
  {
   "cell_type": "code",
   "execution_count": null,
   "metadata": {},
   "outputs": [],
   "source": []
  }
 ],
 "metadata": {
  "kernelspec": {
   "display_name": "Python 3",
   "language": "python",
   "name": "python3"
  },
  "language_info": {
   "codemirror_mode": {
    "name": "ipython",
    "version": 3
   },
   "file_extension": ".py",
   "mimetype": "text/x-python",
   "name": "python",
   "nbconvert_exporter": "python",
   "pygments_lexer": "ipython3",
   "version": "3.6.6"
  }
 },
 "nbformat": 4,
 "nbformat_minor": 2
}
